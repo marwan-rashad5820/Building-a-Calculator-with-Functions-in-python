{
 "cells": [
  {
   "cell_type": "code",
   "execution_count": 1,
   "id": "e9fd767b-c568-4a68-a37e-fd789edfb273",
   "metadata": {},
   "outputs": [],
   "source": [
    "#Building a Calculator with Functions"
   ]
  },
  {
   "cell_type": "code",
   "execution_count": 2,
   "id": "9d51ae59-11a8-4e4b-ab2a-d99f7ae7bb27",
   "metadata": {},
   "outputs": [
    {
     "name": "stdin",
     "output_type": "stream",
     "text": [
      "Enter first number 5\n",
      "Enter second number 0\n"
     ]
    }
   ],
   "source": [
    "#defining numbner one and number two\n",
    "number_one =float(input(\"Enter first number\"))\n",
    "number_two =float(input(\"Enter second number\"))"
   ]
  },
  {
   "cell_type": "code",
   "execution_count": 3,
   "id": "a03b56df-9001-4c93-b00a-32e83f6a0634",
   "metadata": {},
   "outputs": [
    {
     "name": "stdout",
     "output_type": "stream",
     "text": [
      "(+).\"addition\" \n",
      "(-).\"subtraction\" \n",
      "(*).\"multiplication\" \n",
      "(/).\"division\" \n",
      "(%).\"modulus\"\n"
     ]
    }
   ],
   "source": [
    "print(\"(+).\\\"addition\\\" \\n(-).\\\"subtraction\\\" \\n(*).\\\"multiplication\\\" \\n(/).\\\"division\\\" \\n(%).\\\"modulus\\\"\")\n",
    "choise = input(\"enter your operation you want to need :\\n>> \".title()) #make the first character in every word is upper case"
   ]
  },
  {
   "cell_type": "code",
   "execution_count": 5,
   "id": "e2a94e56-5952-4bfa-a4b1-602ad2e7a65d",
   "metadata": {},
   "outputs": [],
   "source": [
    "#functions for every operation\n",
    "def sum(number1,number2):\n",
    "    return f\"the result of sum {number_one} + {number_two} = {number_one+number_two}\"\n",
    "def subtraction(number1,number2):\n",
    "    return f\"the result of subtraction {number_one} - {number_two} = {number_one-number_two} \"\n",
    "def multiplication(number1,number2):\n",
    "    return f\"the result of multiplication {number_one} * {number_two} ={number_one*number_two}\"\n",
    "def division(number1,number2):\n",
    "    return f\"the result of division {number_one} / {number_two} = {number_one/number_two}\"\n",
    "def modulus(number1,number2):\n",
    "    return f\"the result of modulus {number_one} % {number_two} = {number_one%number_two}\""
   ]
  },
  {
   "cell_type": "code",
   "execution_count": 6,
   "id": "6336e201-7301-4640-a1f2-6e21b7ebc8c2",
   "metadata": {},
   "outputs": [
    {
     "name": "stdout",
     "output_type": "stream",
     "text": [
      "cann't divided by zero !!\n"
     ]
    }
   ],
   "source": [
    "if choise =='+':\n",
    "    print(sum(number_one,number_two))\n",
    "elif choise =='-':\n",
    "    print(subtraction(number_one,number_two))\n",
    "elif choise =='*':\n",
    "    print(multiplication(number_one,number_two))\n",
    "elif choise =='/' and number_two != 0:\n",
    "         print(division(number_one,number_two))\n",
    "elif choise =='/' and number_two == 0:\n",
    "         print(\"cann\\'t divided by zero !!\")\n",
    "elif choise =='%':\n",
    "    print(modulus(number_one,number_two))\n",
    "else:\n",
    "     print(\"invalid error\".title())"
   ]
  },
  {
   "cell_type": "code",
   "execution_count": null,
   "id": "c5821d26-b956-445a-a389-79f3f016fb36",
   "metadata": {},
   "outputs": [],
   "source": []
  }
 ],
 "metadata": {
  "kernelspec": {
   "display_name": "Python 3 (ipykernel)",
   "language": "python",
   "name": "python3"
  },
  "language_info": {
   "codemirror_mode": {
    "name": "ipython",
    "version": 3
   },
   "file_extension": ".py",
   "mimetype": "text/x-python",
   "name": "python",
   "nbconvert_exporter": "python",
   "pygments_lexer": "ipython3",
   "version": "3.12.4"
  }
 },
 "nbformat": 4,
 "nbformat_minor": 5
}
